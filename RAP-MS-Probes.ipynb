{
 "cells": [
  {
   "cell_type": "code",
   "execution_count": 1,
   "metadata": {},
   "outputs": [],
   "source": [
    "from Bio import SeqIO\n",
    "from Bio.SeqFeature import FeatureLocation\n",
    "from Bio.SeqFeature import CompoundLocation\n",
    "\n",
    "import pandas as pd\n",
    "import numpy as np"
   ]
  },
  {
   "cell_type": "code",
   "execution_count": 10,
   "metadata": {},
   "outputs": [],
   "source": [
    "def exon_intron(genbank, gene, _type_=\"ncRNA\"):\n",
    "    \"\"\"Takes a genbank file and returns intron and exon sequences\"\"\"\n",
    "    # Read in and extract the sequence\n",
    "    record = SeqIO.read(genbank, \"genbank\")\n",
    "\n",
    "    sequence = record.seq\n",
    "\n",
    "    # Extract the desired feature\n",
    "    feature = []\n",
    "    \n",
    "    for i in record.features:\n",
    "        if i.type == _type_ and i.qualifiers[\"gene\"] == gene:\n",
    "            feature.append(i)\n",
    "\n",
    "    if len(feature) < 1:\n",
    "        raise ValueError(\"Feature not found\")\n",
    "\n",
    "    elif len(feature) > 1:\n",
    "        raise ValueError(\"More than one feature of given description\")\n",
    "\n",
    "    else:\n",
    "        location = feature[0].location\n",
    "\n",
    "    # Use the exon indices to extract the mature transcript\n",
    "    mat_rna = location.extract(sequence)\n",
    "    \n",
    "    # Make a list of exon indices\n",
    "    exon_ls = list(location)\n",
    "    \n",
    "    # Make a list of intron indices using np.s_\n",
    "    intron_slices = []\n",
    "    \n",
    "    for i, v in enumerate(exon_ls):\n",
    "\n",
    "        if v != exon_ls[i - 1] + 1 and v > exon_ls[i - 1]:\n",
    "            intron_slices.append(np.s_[exon_ls[i - 1] : v])\n",
    "\n",
    "        else:\n",
    "            pass\n",
    "\n",
    "    # Extract the intron sequences\n",
    "    introns = [sequence[i] for i in intron_slices]\n",
    "\n",
    "    return mat_rna, introns\n",
    "\n",
    "def rap_probes(seq, gene, probe_length = 90):\n",
    "    '''Takes a sequence and makes probes of a given length'''\n",
    "    # Extract indices of the desired probe length\n",
    "    inds = np.arange(0, len(seq), probe_length)\n",
    "    \n",
    "    s_list = []\n",
    "    \n",
    "    for i in range(len(inds)-1):\n",
    "        s_list.append(np.s_[inds[i]:inds[i+1]])\n",
    "    \n",
    "    # Use those indices to make probes\n",
    "    s_seq = [seq[i] for i in s_list]\n",
    "    \n",
    "    # If there is more than a quarter probe of gene left uncovered, add one last probe \n",
    "    if len(seq) - inds[-1] > probe_length / 4 : \n",
    "        s_seq.append(seq[-90:])\n",
    "    \n",
    "    else:\n",
    "        pass\n",
    "    \n",
    "    s_seq = [str(i.reverse_complement()) for i in s_seq]\n",
    "    \n",
    "    # Name the probes and return a dataframe\n",
    "    prb_nms = [gene + str(i+1) for i in range(len(s_seq))]\n",
    "    \n",
    "    return pd.DataFrame({'Name':prb_nms,\n",
    "                        'Sequence':s_seq})"
   ]
  },
  {
   "cell_type": "code",
   "execution_count": 11,
   "metadata": {},
   "outputs": [],
   "source": [
    "mat_tsix, int_tsix = exon_intron('sequence.gb', ['Tsix'])"
   ]
  },
  {
   "cell_type": "code",
   "execution_count": 12,
   "metadata": {},
   "outputs": [],
   "source": [
    "mat_probes = rap_probes(mat_tsix, 'Tsix_Exon_')\n",
    "\n",
    "int_ls = [rap_probes(i, 'Tsix_Intron_') for i in int_tsix]"
   ]
  },
  {
   "cell_type": "code",
   "execution_count": 13,
   "metadata": {},
   "outputs": [
    {
     "data": {
      "text/html": [
       "<div>\n",
       "<style scoped>\n",
       "    .dataframe tbody tr th:only-of-type {\n",
       "        vertical-align: middle;\n",
       "    }\n",
       "\n",
       "    .dataframe tbody tr th {\n",
       "        vertical-align: top;\n",
       "    }\n",
       "\n",
       "    .dataframe thead th {\n",
       "        text-align: right;\n",
       "    }\n",
       "</style>\n",
       "<table border=\"1\" class=\"dataframe\">\n",
       "  <thead>\n",
       "    <tr style=\"text-align: right;\">\n",
       "      <th></th>\n",
       "      <th>Name</th>\n",
       "      <th>Sequence</th>\n",
       "    </tr>\n",
       "  </thead>\n",
       "  <tbody>\n",
       "    <tr>\n",
       "      <td>0</td>\n",
       "      <td>Tsix_Intron_1</td>\n",
       "      <td>AAGCAAACATGTATAGACATAAGTAATAAAGTCAGGTGTAGGCATA...</td>\n",
       "    </tr>\n",
       "    <tr>\n",
       "      <td>1</td>\n",
       "      <td>Tsix_Intron_2</td>\n",
       "      <td>TGTCTAGGTAACCCTGTAGCATGTGTGAAACAAAAGACTATTGCCC...</td>\n",
       "    </tr>\n",
       "    <tr>\n",
       "      <td>2</td>\n",
       "      <td>Tsix_Intron_3</td>\n",
       "      <td>CTTAGGAGAAAAACAGACGCTTAAACATCCCTACTTGGAGGCTTTT...</td>\n",
       "    </tr>\n",
       "    <tr>\n",
       "      <td>3</td>\n",
       "      <td>Tsix_Intron_4</td>\n",
       "      <td>GAATTCTTGATAAGAAATAACCTCCAGAGAAATGGCAATCATTTAC...</td>\n",
       "    </tr>\n",
       "    <tr>\n",
       "      <td>4</td>\n",
       "      <td>Tsix_Intron_5</td>\n",
       "      <td>GAAAGAAATGAAGAGAAAGAAAAAAGACTAATAGGTCCCAGAGACT...</td>\n",
       "    </tr>\n",
       "    <tr>\n",
       "      <td>...</td>\n",
       "      <td>...</td>\n",
       "      <td>...</td>\n",
       "    </tr>\n",
       "    <tr>\n",
       "      <td>541</td>\n",
       "      <td>Tsix_Intron_542</td>\n",
       "      <td>TTTGAATTTAAAACCGAAGTGATTGTTTTCAAAATGTATTTACGAT...</td>\n",
       "    </tr>\n",
       "    <tr>\n",
       "      <td>542</td>\n",
       "      <td>Tsix_Intron_543</td>\n",
       "      <td>TCTACCCCATGACTATTGCTGGGGTTGCATTTTGATTTCAATGAAT...</td>\n",
       "    </tr>\n",
       "    <tr>\n",
       "      <td>543</td>\n",
       "      <td>Tsix_Intron_544</td>\n",
       "      <td>AGCCTACTGGGTATAAGTGGTGACTTTGGCCAGAGTCATAGTGGAT...</td>\n",
       "    </tr>\n",
       "    <tr>\n",
       "      <td>544</td>\n",
       "      <td>Tsix_Intron_545</td>\n",
       "      <td>GCCCGTTCCATTCCTTTGTATTGTTCAGTGGCTAGTCTACTTACAC...</td>\n",
       "    </tr>\n",
       "    <tr>\n",
       "      <td>545</td>\n",
       "      <td>Tsix_Intron_546</td>\n",
       "      <td>TCTAAGGCCATTTCAAGGACATTTGACTCATCCGCTTGCGTTCATA...</td>\n",
       "    </tr>\n",
       "  </tbody>\n",
       "</table>\n",
       "<p>546 rows × 2 columns</p>\n",
       "</div>"
      ],
      "text/plain": [
       "                Name                                           Sequence\n",
       "0      Tsix_Intron_1  AAGCAAACATGTATAGACATAAGTAATAAAGTCAGGTGTAGGCATA...\n",
       "1      Tsix_Intron_2  TGTCTAGGTAACCCTGTAGCATGTGTGAAACAAAAGACTATTGCCC...\n",
       "2      Tsix_Intron_3  CTTAGGAGAAAAACAGACGCTTAAACATCCCTACTTGGAGGCTTTT...\n",
       "3      Tsix_Intron_4  GAATTCTTGATAAGAAATAACCTCCAGAGAAATGGCAATCATTTAC...\n",
       "4      Tsix_Intron_5  GAAAGAAATGAAGAGAAAGAAAAAAGACTAATAGGTCCCAGAGACT...\n",
       "..               ...                                                ...\n",
       "541  Tsix_Intron_542  TTTGAATTTAAAACCGAAGTGATTGTTTTCAAAATGTATTTACGAT...\n",
       "542  Tsix_Intron_543  TCTACCCCATGACTATTGCTGGGGTTGCATTTTGATTTCAATGAAT...\n",
       "543  Tsix_Intron_544  AGCCTACTGGGTATAAGTGGTGACTTTGGCCAGAGTCATAGTGGAT...\n",
       "544  Tsix_Intron_545  GCCCGTTCCATTCCTTTGTATTGTTCAGTGGCTAGTCTACTTACAC...\n",
       "545  Tsix_Intron_546  TCTAAGGCCATTTCAAGGACATTTGACTCATCCGCTTGCGTTCATA...\n",
       "\n",
       "[546 rows x 2 columns]"
      ]
     },
     "execution_count": 13,
     "metadata": {},
     "output_type": "execute_result"
    }
   ],
   "source": [
    "int_pd = pd.concat(int_ls)\n",
    "\n",
    "int_pd = int_pd.reset_index(drop = True)\n",
    "\n",
    "int_pd.loc[:,'Name'] = ['Tsix_Intron_' + str(i+1) for i in int_pd.index]\n",
    "\n",
    "int_pd"
   ]
  },
  {
   "cell_type": "code",
   "execution_count": 14,
   "metadata": {},
   "outputs": [],
   "source": [
    "all_tsix = pd.concat([mat_probes, int_pd])\n",
    "\n",
    "all_tsix = all_tsix.reset_index(drop = True)\n",
    "\n",
    "all_tsix.to_csv('TsixProbes.csv')"
   ]
  },
  {
   "cell_type": "code",
   "execution_count": 15,
   "metadata": {},
   "outputs": [
    {
     "data": {
      "text/plain": [
       "594"
      ]
     },
     "execution_count": 15,
     "metadata": {},
     "output_type": "execute_result"
    }
   ],
   "source": [
    "len(all_tsix)"
   ]
  },
  {
   "cell_type": "code",
   "execution_count": null,
   "metadata": {},
   "outputs": [],
   "source": []
  }
 ],
 "metadata": {
  "kernelspec": {
   "display_name": "Python 3",
   "language": "python",
   "name": "python3"
  },
  "language_info": {
   "codemirror_mode": {
    "name": "ipython",
    "version": 3
   },
   "file_extension": ".py",
   "mimetype": "text/x-python",
   "name": "python",
   "nbconvert_exporter": "python",
   "pygments_lexer": "ipython3",
   "version": "3.7.4"
  }
 },
 "nbformat": 4,
 "nbformat_minor": 4
}
